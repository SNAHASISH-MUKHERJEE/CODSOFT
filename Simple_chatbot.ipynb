{
  "nbformat": 4,
  "nbformat_minor": 0,
  "metadata": {
    "colab": {
      "provenance": [],
      "authorship_tag": "ABX9TyNKpcZBuCwg9kPCBEKre4Xh",
      "include_colab_link": true
    },
    "kernelspec": {
      "name": "python3",
      "display_name": "Python 3"
    },
    "language_info": {
      "name": "python"
    }
  },
  "cells": [
    {
      "cell_type": "markdown",
      "metadata": {
        "id": "view-in-github",
        "colab_type": "text"
      },
      "source": [
        "<a href=\"https://colab.research.google.com/github/SNAHASISH-MUKHERJEE/CODSOFT/blob/main/Simple_chatbot.ipynb\" target=\"_parent\"><img src=\"https://colab.research.google.com/assets/colab-badge.svg\" alt=\"Open In Colab\"/></a>"
      ]
    },
    {
      "cell_type": "code",
      "source": [
        "!pip install gradio --quiet\n",
        "import gradio as gr\n",
        "import datetime\n",
        "\n",
        "# Response logic with rule-based replies\n",
        "def chatbot_response(message, chat_history):\n",
        "    user_input = message.lower()\n",
        "\n",
        "    if \"hello\" in user_input or \"hi\" in user_input:\n",
        "        reply = \"Hi there! How can I help you?\"\n",
        "    elif \"how are you\" in user_input:\n",
        "        reply = \"I'm just a bunch of code, but thanks for asking!\"\n",
        "    elif \"time\" in user_input:\n",
        "        now = datetime.datetime.now()\n",
        "        reply = f\"The current time is {now.strftime('%H:%M')}.\"\n",
        "    elif \"name\" in user_input:\n",
        "        reply = \"I'm Chatbot 1.0! Nice to meet you.\"\n",
        "    elif \"bye\" in user_input or \"exit\" in user_input:\n",
        "        reply = \"Goodbye! Have a great day!\"\n",
        "    else:\n",
        "        reply = \"I'm not sure how to respond to that. Can you ask something else?\"\n",
        "\n",
        "    chat_history.append((message, reply))\n",
        "    return chat_history, chat_history\n",
        "\n",
        "# Create Gradio chat interface with history\n",
        "chat_interface = gr.ChatInterface(\n",
        "    fn=chatbot_response,\n",
        "    title=\"Rule-Based Chatbot with Memory\",\n",
        "    description=\"This chatbot remembers your conversation!\",\n",
        "    theme=\"soft\",\n",
        "    type='messages'\n",
        ")\n",
        "\n",
        "# Launch\n",
        "chat_interface.launch()\n"
      ],
      "metadata": {
        "colab": {
          "base_uri": "https://localhost:8080/",
          "height": 650
        },
        "id": "y9kskXQegqLZ",
        "outputId": "9ca71de6-698d-49ad-e401-a7e1a7f9e912"
      },
      "execution_count": 1,
      "outputs": [
        {
          "output_type": "stream",
          "name": "stdout",
          "text": [
            "It looks like you are running Gradio on a hosted Jupyter notebook, which requires `share=True`. Automatically setting `share=True` (you can turn this off by setting `share=False` in `launch()` explicitly).\n",
            "\n",
            "Colab notebook detected. To show errors in colab notebook, set debug=True in launch()\n",
            "* Running on public URL: https://e46c522c8a6601fe43.gradio.live\n",
            "\n",
            "This share link expires in 1 week. For free permanent hosting and GPU upgrades, run `gradio deploy` from the terminal in the working directory to deploy to Hugging Face Spaces (https://huggingface.co/spaces)\n"
          ]
        },
        {
          "output_type": "display_data",
          "data": {
            "text/plain": [
              "<IPython.core.display.HTML object>"
            ],
            "text/html": [
              "<div><iframe src=\"https://e46c522c8a6601fe43.gradio.live\" width=\"100%\" height=\"500\" allow=\"autoplay; camera; microphone; clipboard-read; clipboard-write;\" frameborder=\"0\" allowfullscreen></iframe></div>"
            ]
          },
          "metadata": {}
        },
        {
          "output_type": "execute_result",
          "data": {
            "text/plain": []
          },
          "metadata": {},
          "execution_count": 1
        }
      ]
    }
  ]
}